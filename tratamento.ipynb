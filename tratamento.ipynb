{
 "cells": [
  {
   "cell_type": "code",
   "execution_count": 1,
   "metadata": {},
   "outputs": [],
   "source": [
    "\n",
    "import mysql.connector\n",
    "import numpy as np\n",
    "import pandas as pd\n",
    "import streamlit as st"
   ]
  },
  {
   "cell_type": "code",
   "execution_count": 4,
   "metadata": {},
   "outputs": [
    {
     "data": {
      "text/plain": [
       "datetime.date(2023, 6, 11)"
      ]
     },
     "execution_count": 4,
     "metadata": {},
     "output_type": "execute_result"
    }
   ],
   "source": [
    "hoje"
   ]
  },
  {
   "cell_type": "code",
   "execution_count": 2,
   "metadata": {},
   "outputs": [
    {
     "name": "stdout",
     "output_type": "stream",
     "text": [
      "conexão ok\n"
     ]
    },
    {
     "name": "stderr",
     "output_type": "stream",
     "text": [
      "C:\\Users\\Sávio Cunha\\AppData\\Local\\Temp\\ipykernel_1604\\3066407204.py:28: UserWarning: pandas only supports SQLAlchemy connectable (engine/connection) or database string URI or sqlite3 DBAPI2 connection. Other DBAPI2 objects are not tested. Please consider using SQLAlchemy.\n",
      "  dfCaixa = pd.read_sql(querycaixa, conexao)\n",
      "C:\\Users\\Sávio Cunha\\AppData\\Local\\Temp\\ipykernel_1604\\3066407204.py:29: UserWarning: pandas only supports SQLAlchemy connectable (engine/connection) or database string URI or sqlite3 DBAPI2 connection. Other DBAPI2 objects are not tested. Please consider using SQLAlchemy.\n",
      "  dfCaixaItens = pd.read_sql(querycaixaItens, conexao)\n",
      "C:\\Users\\Sávio Cunha\\AppData\\Local\\Temp\\ipykernel_1604\\3066407204.py:30: UserWarning: pandas only supports SQLAlchemy connectable (engine/connection) or database string URI or sqlite3 DBAPI2 connection. Other DBAPI2 objects are not tested. Please consider using SQLAlchemy.\n",
      "  dfCargos = pd.read_sql(querycargos, conexao)\n",
      "C:\\Users\\Sávio Cunha\\AppData\\Local\\Temp\\ipykernel_1604\\3066407204.py:31: UserWarning: pandas only supports SQLAlchemy connectable (engine/connection) or database string URI or sqlite3 DBAPI2 connection. Other DBAPI2 objects are not tested. Please consider using SQLAlchemy.\n",
      "  dfClientes= pd.read_sql(queryclientes, conexao)\n",
      "C:\\Users\\Sávio Cunha\\AppData\\Local\\Temp\\ipykernel_1604\\3066407204.py:32: UserWarning: pandas only supports SQLAlchemy connectable (engine/connection) or database string URI or sqlite3 DBAPI2 connection. Other DBAPI2 objects are not tested. Please consider using SQLAlchemy.\n",
      "  dfColaboradores = pd.read_sql(querycolaboradores, conexao)\n",
      "C:\\Users\\Sávio Cunha\\AppData\\Local\\Temp\\ipykernel_1604\\3066407204.py:33: UserWarning: pandas only supports SQLAlchemy connectable (engine/connection) or database string URI or sqlite3 DBAPI2 connection. Other DBAPI2 objects are not tested. Please consider using SQLAlchemy.\n",
      "  dfComandas = pd.read_sql(querycomandas, conexao)\n",
      "C:\\Users\\Sávio Cunha\\AppData\\Local\\Temp\\ipykernel_1604\\3066407204.py:34: UserWarning: pandas only supports SQLAlchemy connectable (engine/connection) or database string URI or sqlite3 DBAPI2 connection. Other DBAPI2 objects are not tested. Please consider using SQLAlchemy.\n",
      "  dfEmpresas = pd.read_sql(queryempresas, conexao)\n",
      "C:\\Users\\Sávio Cunha\\AppData\\Local\\Temp\\ipykernel_1604\\3066407204.py:35: UserWarning: pandas only supports SQLAlchemy connectable (engine/connection) or database string URI or sqlite3 DBAPI2 connection. Other DBAPI2 objects are not tested. Please consider using SQLAlchemy.\n",
      "  dfEstoques = pd.read_sql(queryestoques, conexao)\n",
      "C:\\Users\\Sávio Cunha\\AppData\\Local\\Temp\\ipykernel_1604\\3066407204.py:36: UserWarning: pandas only supports SQLAlchemy connectable (engine/connection) or database string URI or sqlite3 DBAPI2 connection. Other DBAPI2 objects are not tested. Please consider using SQLAlchemy.\n",
      "  dfFormaPagamento = pd.read_sql(queryforma_pagamentos, conexao)\n",
      "C:\\Users\\Sávio Cunha\\AppData\\Local\\Temp\\ipykernel_1604\\3066407204.py:37: UserWarning: pandas only supports SQLAlchemy connectable (engine/connection) or database string URI or sqlite3 DBAPI2 connection. Other DBAPI2 objects are not tested. Please consider using SQLAlchemy.\n",
      "  dfFornecedores = pd.read_sql(queryfornecedores, conexao)\n",
      "C:\\Users\\Sávio Cunha\\AppData\\Local\\Temp\\ipykernel_1604\\3066407204.py:38: UserWarning: pandas only supports SQLAlchemy connectable (engine/connection) or database string URI or sqlite3 DBAPI2 connection. Other DBAPI2 objects are not tested. Please consider using SQLAlchemy.\n",
      "  dfGrupoProdutos = pd.read_sql(querygrupo_produtos, conexao)\n",
      "C:\\Users\\Sávio Cunha\\AppData\\Local\\Temp\\ipykernel_1604\\3066407204.py:39: UserWarning: pandas only supports SQLAlchemy connectable (engine/connection) or database string URI or sqlite3 DBAPI2 connection. Other DBAPI2 objects are not tested. Please consider using SQLAlchemy.\n",
      "  dfItemComandas = pd.read_sql(queryitem_comandas, conexao)\n",
      "C:\\Users\\Sávio Cunha\\AppData\\Local\\Temp\\ipykernel_1604\\3066407204.py:40: UserWarning: pandas only supports SQLAlchemy connectable (engine/connection) or database string URI or sqlite3 DBAPI2 connection. Other DBAPI2 objects are not tested. Please consider using SQLAlchemy.\n",
      "  dfItemEstoque = pd.read_sql(queryitem_estoques, conexao)\n",
      "C:\\Users\\Sávio Cunha\\AppData\\Local\\Temp\\ipykernel_1604\\3066407204.py:41: UserWarning: pandas only supports SQLAlchemy connectable (engine/connection) or database string URI or sqlite3 DBAPI2 connection. Other DBAPI2 objects are not tested. Please consider using SQLAlchemy.\n",
      "  dfLojas = pd.read_sql(querylojas, conexao)\n",
      "C:\\Users\\Sávio Cunha\\AppData\\Local\\Temp\\ipykernel_1604\\3066407204.py:42: UserWarning: pandas only supports SQLAlchemy connectable (engine/connection) or database string URI or sqlite3 DBAPI2 connection. Other DBAPI2 objects are not tested. Please consider using SQLAlchemy.\n",
      "  dfProdutos = pd.read_sql(queryprodutos, conexao)\n",
      "C:\\Users\\Sávio Cunha\\AppData\\Local\\Temp\\ipykernel_1604\\3066407204.py:43: UserWarning: pandas only supports SQLAlchemy connectable (engine/connection) or database string URI or sqlite3 DBAPI2 connection. Other DBAPI2 objects are not tested. Please consider using SQLAlchemy.\n",
      "  dfProdutoPreco = pd.read_sql(queryproduto_precos, conexao)\n",
      "C:\\Users\\Sávio Cunha\\AppData\\Local\\Temp\\ipykernel_1604\\3066407204.py:44: UserWarning: pandas only supports SQLAlchemy connectable (engine/connection) or database string URI or sqlite3 DBAPI2 connection. Other DBAPI2 objects are not tested. Please consider using SQLAlchemy.\n",
      "  dfPromocoes= pd.read_sql(querypromocaos, conexao)\n"
     ]
    },
    {
     "name": "stdout",
     "output_type": "stream",
     "text": [
      "conexão ok\n"
     ]
    },
    {
     "name": "stderr",
     "output_type": "stream",
     "text": [
      "C:\\Users\\Sávio Cunha\\AppData\\Local\\Temp\\ipykernel_1604\\3066407204.py:74: UserWarning: pandas only supports SQLAlchemy connectable (engine/connection) or database string URI or sqlite3 DBAPI2 connection. Other DBAPI2 objects are not tested. Please consider using SQLAlchemy.\n",
      "  filialdfCaixa = pd.read_sql(filialquerycaixa, conexaoFilial)\n",
      "C:\\Users\\Sávio Cunha\\AppData\\Local\\Temp\\ipykernel_1604\\3066407204.py:75: UserWarning: pandas only supports SQLAlchemy connectable (engine/connection) or database string URI or sqlite3 DBAPI2 connection. Other DBAPI2 objects are not tested. Please consider using SQLAlchemy.\n",
      "  filialdfCaixaItens = pd.read_sql(filialquerycaixaItens, conexaoFilial)\n",
      "C:\\Users\\Sávio Cunha\\AppData\\Local\\Temp\\ipykernel_1604\\3066407204.py:76: UserWarning: pandas only supports SQLAlchemy connectable (engine/connection) or database string URI or sqlite3 DBAPI2 connection. Other DBAPI2 objects are not tested. Please consider using SQLAlchemy.\n",
      "  filialdfCargos = pd.read_sql(filialquerycargos, conexaoFilial)\n",
      "C:\\Users\\Sávio Cunha\\AppData\\Local\\Temp\\ipykernel_1604\\3066407204.py:77: UserWarning: pandas only supports SQLAlchemy connectable (engine/connection) or database string URI or sqlite3 DBAPI2 connection. Other DBAPI2 objects are not tested. Please consider using SQLAlchemy.\n",
      "  filialdfClientes= pd.read_sql(filialqueryclientes, conexaoFilial)\n",
      "C:\\Users\\Sávio Cunha\\AppData\\Local\\Temp\\ipykernel_1604\\3066407204.py:78: UserWarning: pandas only supports SQLAlchemy connectable (engine/connection) or database string URI or sqlite3 DBAPI2 connection. Other DBAPI2 objects are not tested. Please consider using SQLAlchemy.\n",
      "  filialdfColaboradores = pd.read_sql(filialquerycolaboradores, conexaoFilial)\n",
      "C:\\Users\\Sávio Cunha\\AppData\\Local\\Temp\\ipykernel_1604\\3066407204.py:79: UserWarning: pandas only supports SQLAlchemy connectable (engine/connection) or database string URI or sqlite3 DBAPI2 connection. Other DBAPI2 objects are not tested. Please consider using SQLAlchemy.\n",
      "  filialdfComandas = pd.read_sql(filialquerycomandas, conexaoFilial)\n",
      "C:\\Users\\Sávio Cunha\\AppData\\Local\\Temp\\ipykernel_1604\\3066407204.py:80: UserWarning: pandas only supports SQLAlchemy connectable (engine/connection) or database string URI or sqlite3 DBAPI2 connection. Other DBAPI2 objects are not tested. Please consider using SQLAlchemy.\n",
      "  filialdfEmpresas = pd.read_sql(filialqueryempresas, conexaoFilial)\n",
      "C:\\Users\\Sávio Cunha\\AppData\\Local\\Temp\\ipykernel_1604\\3066407204.py:81: UserWarning: pandas only supports SQLAlchemy connectable (engine/connection) or database string URI or sqlite3 DBAPI2 connection. Other DBAPI2 objects are not tested. Please consider using SQLAlchemy.\n",
      "  filialdfEstoques = pd.read_sql(filialqueryestoques, conexaoFilial)\n",
      "C:\\Users\\Sávio Cunha\\AppData\\Local\\Temp\\ipykernel_1604\\3066407204.py:82: UserWarning: pandas only supports SQLAlchemy connectable (engine/connection) or database string URI or sqlite3 DBAPI2 connection. Other DBAPI2 objects are not tested. Please consider using SQLAlchemy.\n",
      "  filialdfFormaPagamento = pd.read_sql(filialqueryforma_pagamentos, conexaoFilial)\n",
      "C:\\Users\\Sávio Cunha\\AppData\\Local\\Temp\\ipykernel_1604\\3066407204.py:83: UserWarning: pandas only supports SQLAlchemy connectable (engine/connection) or database string URI or sqlite3 DBAPI2 connection. Other DBAPI2 objects are not tested. Please consider using SQLAlchemy.\n",
      "  filialdfFornecedores = pd.read_sql(filialqueryfornecedores, conexaoFilial)\n",
      "C:\\Users\\Sávio Cunha\\AppData\\Local\\Temp\\ipykernel_1604\\3066407204.py:84: UserWarning: pandas only supports SQLAlchemy connectable (engine/connection) or database string URI or sqlite3 DBAPI2 connection. Other DBAPI2 objects are not tested. Please consider using SQLAlchemy.\n",
      "  filialdfGrupoProdutos = pd.read_sql(filialquerygrupo_produtos, conexaoFilial)\n",
      "C:\\Users\\Sávio Cunha\\AppData\\Local\\Temp\\ipykernel_1604\\3066407204.py:85: UserWarning: pandas only supports SQLAlchemy connectable (engine/connection) or database string URI or sqlite3 DBAPI2 connection. Other DBAPI2 objects are not tested. Please consider using SQLAlchemy.\n",
      "  filialdfItemComandas = pd.read_sql(filialqueryitem_comandas, conexaoFilial)\n",
      "C:\\Users\\Sávio Cunha\\AppData\\Local\\Temp\\ipykernel_1604\\3066407204.py:86: UserWarning: pandas only supports SQLAlchemy connectable (engine/connection) or database string URI or sqlite3 DBAPI2 connection. Other DBAPI2 objects are not tested. Please consider using SQLAlchemy.\n",
      "  filialdfItemEstoque = pd.read_sql(filialqueryitem_estoques, conexaoFilial)\n",
      "C:\\Users\\Sávio Cunha\\AppData\\Local\\Temp\\ipykernel_1604\\3066407204.py:87: UserWarning: pandas only supports SQLAlchemy connectable (engine/connection) or database string URI or sqlite3 DBAPI2 connection. Other DBAPI2 objects are not tested. Please consider using SQLAlchemy.\n",
      "  filialdfLojas = pd.read_sql(filialquerylojas, conexaoFilial)\n",
      "C:\\Users\\Sávio Cunha\\AppData\\Local\\Temp\\ipykernel_1604\\3066407204.py:88: UserWarning: pandas only supports SQLAlchemy connectable (engine/connection) or database string URI or sqlite3 DBAPI2 connection. Other DBAPI2 objects are not tested. Please consider using SQLAlchemy.\n",
      "  filialdfProdutos = pd.read_sql(filialqueryprodutos, conexaoFilial)\n",
      "C:\\Users\\Sávio Cunha\\AppData\\Local\\Temp\\ipykernel_1604\\3066407204.py:89: UserWarning: pandas only supports SQLAlchemy connectable (engine/connection) or database string URI or sqlite3 DBAPI2 connection. Other DBAPI2 objects are not tested. Please consider using SQLAlchemy.\n",
      "  filialdfProdutoPreco = pd.read_sql(filialqueryproduto_precos, conexaoFilial)\n",
      "C:\\Users\\Sávio Cunha\\AppData\\Local\\Temp\\ipykernel_1604\\3066407204.py:90: UserWarning: pandas only supports SQLAlchemy connectable (engine/connection) or database string URI or sqlite3 DBAPI2 connection. Other DBAPI2 objects are not tested. Please consider using SQLAlchemy.\n",
      "  filialdfPromocoes= pd.read_sql(filialquerypromocaos, conexaoFilial)\n"
     ]
    }
   ],
   "source": [
    "######################### CONEXÃO LOJA UBAJARA ########################################\n",
    "\n",
    "\n",
    "conexao = mysql.connector.connect(host='srv496.hstgr.io', database='u771541202_db_madamy',\n",
    "                                  user='u771541202_madamy', password='visioWebsolucao2')\n",
    "\n",
    "if conexao.is_connected():\n",
    "    print('conexão ok')\n",
    "\n",
    "querycaixa = ('SELECT * FROM caixas')\n",
    "querycaixaItens = ('SELECT * FROM caixa_items')\n",
    "querycargos = ('SELECT * FROM cargos')\n",
    "queryclientes = ('SELECT * FROM clientes')\n",
    "querycolaboradores = ('SELECT * FROM colaboradors')\n",
    "querycomandas = ('SELECT * FROM comandas')\n",
    "queryempresas = ('SELECT * FROM empresas')\n",
    "queryestoques = ('SELECT * FROM estoques')\n",
    "queryforma_pagamentos = ('SELECT * FROM forma_pagamentos')\n",
    "queryfornecedores = ('SELECT * FROM fornecedors')\n",
    "querygrupo_produtos = ('SELECT * FROM grupo_produtos')\n",
    "queryitem_comandas = ('SELECT * FROM item_comandas')\n",
    "queryitem_estoques = ('SELECT * FROM item_estoques')\n",
    "querylojas = ('SELECT * FROM lojas')\n",
    "queryprodutos = ('SELECT * FROM produtos')\n",
    "queryproduto_precos = ('SELECT * FROM produto_precos')\n",
    "querypromocaos = ('SELECT * FROM promocaos')\n",
    "\n",
    "dfCaixa = pd.read_sql(querycaixa, conexao)\n",
    "dfCaixaItens = pd.read_sql(querycaixaItens, conexao)\n",
    "dfCargos = pd.read_sql(querycargos, conexao)\n",
    "dfClientes= pd.read_sql(queryclientes, conexao)\n",
    "dfColaboradores = pd.read_sql(querycolaboradores, conexao)\n",
    "dfComandas = pd.read_sql(querycomandas, conexao)\n",
    "dfEmpresas = pd.read_sql(queryempresas, conexao)\n",
    "dfEstoques = pd.read_sql(queryestoques, conexao)\n",
    "dfFormaPagamento = pd.read_sql(queryforma_pagamentos, conexao)\n",
    "dfFornecedores = pd.read_sql(queryfornecedores, conexao)\n",
    "dfGrupoProdutos = pd.read_sql(querygrupo_produtos, conexao)\n",
    "dfItemComandas = pd.read_sql(queryitem_comandas, conexao)\n",
    "dfItemEstoque = pd.read_sql(queryitem_estoques, conexao)\n",
    "dfLojas = pd.read_sql(querylojas, conexao)\n",
    "dfProdutos = pd.read_sql(queryprodutos, conexao)\n",
    "dfProdutoPreco = pd.read_sql(queryproduto_precos, conexao)\n",
    "dfPromocoes= pd.read_sql(querypromocaos, conexao)\n",
    "\n",
    "################### CONEXÃO LOJA SÃO BENEDITO (FILIAL) ################## \n",
    "\n",
    "\n",
    "\n",
    "conexaoFilial = mysql.connector.connect(host='srv496.hstgr.io', database='u771541202_db_filial',\n",
    "                                  user='u771541202_madamy_filial', password='visioWebsolucao2')\n",
    "\n",
    "if conexaoFilial.is_connected():\n",
    "    print('conexão ok')\n",
    "\n",
    "filialquerycaixa = ('SELECT * FROM caixas')\n",
    "filialquerycaixaItens = ('SELECT * FROM caixa_items')\n",
    "filialquerycargos = ('SELECT * FROM cargos')\n",
    "filialqueryclientes = ('SELECT * FROM clientes')\n",
    "filialquerycolaboradores = ('SELECT * FROM colaboradors')\n",
    "filialquerycomandas = ('SELECT * FROM comandas')\n",
    "filialqueryempresas = ('SELECT * FROM empresas')\n",
    "filialqueryestoques = ('SELECT * FROM estoques')\n",
    "filialqueryforma_pagamentos = ('SELECT * FROM forma_pagamentos')\n",
    "filialqueryfornecedores = ('SELECT * FROM fornecedors')\n",
    "filialquerygrupo_produtos = ('SELECT * FROM grupo_produtos')\n",
    "filialqueryitem_comandas = ('SELECT * FROM item_comandas')\n",
    "filialqueryitem_estoques = ('SELECT * FROM item_estoques')\n",
    "filialquerylojas = ('SELECT * FROM lojas')\n",
    "filialqueryprodutos = ('SELECT * FROM produtos')\n",
    "filialqueryproduto_precos = ('SELECT * FROM produto_precos')\n",
    "filialquerypromocaos = ('SELECT * FROM promocaos')\n",
    "\n",
    "filialdfCaixa = pd.read_sql(filialquerycaixa, conexaoFilial)\n",
    "filialdfCaixaItens = pd.read_sql(filialquerycaixaItens, conexaoFilial)\n",
    "filialdfCargos = pd.read_sql(filialquerycargos, conexaoFilial)\n",
    "filialdfClientes= pd.read_sql(filialqueryclientes, conexaoFilial)\n",
    "filialdfColaboradores = pd.read_sql(filialquerycolaboradores, conexaoFilial)\n",
    "filialdfComandas = pd.read_sql(filialquerycomandas, conexaoFilial)\n",
    "filialdfEmpresas = pd.read_sql(filialqueryempresas, conexaoFilial)\n",
    "filialdfEstoques = pd.read_sql(filialqueryestoques, conexaoFilial)\n",
    "filialdfFormaPagamento = pd.read_sql(filialqueryforma_pagamentos, conexaoFilial)\n",
    "filialdfFornecedores = pd.read_sql(filialqueryfornecedores, conexaoFilial)\n",
    "filialdfGrupoProdutos = pd.read_sql(filialquerygrupo_produtos, conexaoFilial)\n",
    "filialdfItemComandas = pd.read_sql(filialqueryitem_comandas, conexaoFilial)\n",
    "filialdfItemEstoque = pd.read_sql(filialqueryitem_estoques, conexaoFilial)\n",
    "filialdfLojas = pd.read_sql(filialquerylojas, conexaoFilial)\n",
    "filialdfProdutos = pd.read_sql(filialqueryprodutos, conexaoFilial)\n",
    "filialdfProdutoPreco = pd.read_sql(filialqueryproduto_precos, conexaoFilial)\n",
    "filialdfPromocoes= pd.read_sql(filialquerypromocaos, conexaoFilial)\n",
    "\n"
   ]
  },
  {
   "cell_type": "code",
   "execution_count": 22,
   "metadata": {},
   "outputs": [
    {
     "ename": "NameError",
     "evalue": "name 'year' is not defined",
     "output_type": "error",
     "traceback": [
      "\u001b[1;31m---------------------------------------------------------------------------\u001b[0m",
      "\u001b[1;31mNameError\u001b[0m                                 Traceback (most recent call last)",
      "Cell \u001b[1;32mIn[22], line 3\u001b[0m\n\u001b[0;32m      1\u001b[0m hoje \u001b[39m=\u001b[39m pd\u001b[39m.\u001b[39mTimestamp\u001b[39m.\u001b[39mtoday()\u001b[39m.\u001b[39mdate()\n\u001b[0;32m      2\u001b[0m data_7_dias_atras \u001b[39m=\u001b[39m hoje \u001b[39m-\u001b[39m pd\u001b[39m.\u001b[39mDateOffset(days\u001b[39m=\u001b[39m\u001b[39m7\u001b[39m)\n\u001b[1;32m----> 3\u001b[0m df_filtrado \u001b[39m=\u001b[39m dfCaixaItens[(dfCaixaItens[\u001b[39m\"\u001b[39m\u001b[39mYear\u001b[39m\u001b[39m\"\u001b[39m]\u001b[39m.\u001b[39misin(year)) \u001b[39m&\u001b[39m (dfCaixaItens[\u001b[39m\"\u001b[39m\u001b[39mMonth\u001b[39m\u001b[39m\"\u001b[39m]\u001b[39m.\u001b[39misin(month))]\n\u001b[0;32m      4\u001b[0m df_ultimos_7_dias \u001b[39m=\u001b[39m df_filtrado[(df_filtrado[\u001b[39m\"\u001b[39m\u001b[39mcreated_at\u001b[39m\u001b[39m\"\u001b[39m]\u001b[39m.\u001b[39mdt\u001b[39m.\u001b[39mdate \u001b[39m>\u001b[39m\u001b[39m=\u001b[39m pd\u001b[39m.\u001b[39mTimestamp(data_7_dias_atras)\u001b[39m.\u001b[39mdate()) \u001b[39m&\u001b[39m (df_filtrado[\u001b[39m\"\u001b[39m\u001b[39mcreated_at\u001b[39m\u001b[39m\"\u001b[39m]\u001b[39m.\u001b[39mdt\u001b[39m.\u001b[39mdate \u001b[39m<\u001b[39m\u001b[39m=\u001b[39m pd\u001b[39m.\u001b[39mTimestamp(hoje)\u001b[39m.\u001b[39mdate())]\n",
      "\u001b[1;31mNameError\u001b[0m: name 'year' is not defined"
     ]
    }
   ],
   "source": [
    "\n",
    "hoje = pd.Timestamp.today().date()\n",
    "data_7_dias_atras = hoje - pd.DateOffset(days=7)\n",
    "df_filtrado = dfCaixaItens[(dfCaixaItens[\"Year\"].isin(year)) & (dfCaixaItens[\"Month\"].isin(month))]\n",
    "df_ultimos_7_dias = df_filtrado[(df_filtrado[\"created_at\"].dt.date >= pd.Timestamp(data_7_dias_atras).date()) & (df_filtrado[\"created_at\"].dt.date <= pd.Timestamp(hoje).date())]"
   ]
  },
  {
   "cell_type": "code",
   "execution_count": 19,
   "metadata": {},
   "outputs": [],
   "source": [
    "dfCaixaItens[\"Month\"] = dfCaixaItens[\"created_at\"].apply(lambda x: x.month)\n",
    "dfCaixaItens[\"Year\"] = dfCaixaItens[\"created_at\"].apply(lambda x: x.year)"
   ]
  },
  {
   "cell_type": "code",
   "execution_count": 71,
   "metadata": {},
   "outputs": [
    {
     "data": {
      "text/html": [
       "<div>\n",
       "<style scoped>\n",
       "    .dataframe tbody tr th:only-of-type {\n",
       "        vertical-align: middle;\n",
       "    }\n",
       "\n",
       "    .dataframe tbody tr th {\n",
       "        vertical-align: top;\n",
       "    }\n",
       "\n",
       "    .dataframe thead th {\n",
       "        text-align: right;\n",
       "    }\n",
       "</style>\n",
       "<table border=\"1\" class=\"dataframe\">\n",
       "  <thead>\n",
       "    <tr style=\"text-align: right;\">\n",
       "      <th></th>\n",
       "      <th>forma_pagamento</th>\n",
       "      <th>valor</th>\n",
       "    </tr>\n",
       "  </thead>\n",
       "  <tbody>\n",
       "    <tr>\n",
       "      <th>0</th>\n",
       "      <td>Cartão Crédito</td>\n",
       "      <td>67796.00</td>\n",
       "    </tr>\n",
       "    <tr>\n",
       "      <th>1</th>\n",
       "      <td>Cartão Débito</td>\n",
       "      <td>58808.00</td>\n",
       "    </tr>\n",
       "    <tr>\n",
       "      <th>2</th>\n",
       "      <td>Dinheiro</td>\n",
       "      <td>208642.69</td>\n",
       "    </tr>\n",
       "    <tr>\n",
       "      <th>3</th>\n",
       "      <td>Transferência</td>\n",
       "      <td>102480.90</td>\n",
       "    </tr>\n",
       "  </tbody>\n",
       "</table>\n",
       "</div>"
      ],
      "text/plain": [
       "  forma_pagamento      valor\n",
       "0  Cartão Crédito   67796.00\n",
       "1   Cartão Débito   58808.00\n",
       "2       Dinheiro   208642.69\n",
       "3  Transferência   102480.90"
      ]
     },
     "execution_count": 71,
     "metadata": {},
     "output_type": "execute_result"
    }
   ],
   "source": [
    "vendas_por_forma_pagamento"
   ]
  },
  {
   "cell_type": "code",
   "execution_count": 9,
   "metadata": {},
   "outputs": [
    {
     "data": {
      "text/html": [
       "<div>\n",
       "<style scoped>\n",
       "    .dataframe tbody tr th:only-of-type {\n",
       "        vertical-align: middle;\n",
       "    }\n",
       "\n",
       "    .dataframe tbody tr th {\n",
       "        vertical-align: top;\n",
       "    }\n",
       "\n",
       "    .dataframe thead th {\n",
       "        text-align: right;\n",
       "    }\n",
       "</style>\n",
       "<table border=\"1\" class=\"dataframe\">\n",
       "  <thead>\n",
       "    <tr style=\"text-align: right;\">\n",
       "      <th></th>\n",
       "      <th>id</th>\n",
       "      <th>comanda_id</th>\n",
       "      <th>estoque_id</th>\n",
       "      <th>quantidade</th>\n",
       "      <th>observacao</th>\n",
       "      <th>produto_preco_id</th>\n",
       "      <th>created_at</th>\n",
       "      <th>updated_at</th>\n",
       "    </tr>\n",
       "  </thead>\n",
       "  <tbody>\n",
       "    <tr>\n",
       "      <th>0</th>\n",
       "      <td>1</td>\n",
       "      <td>1</td>\n",
       "      <td>105</td>\n",
       "      <td>1</td>\n",
       "      <td>None</td>\n",
       "      <td>125.0</td>\n",
       "      <td>2020-10-20 23:57:27</td>\n",
       "      <td>2020-10-20 23:57:27</td>\n",
       "    </tr>\n",
       "    <tr>\n",
       "      <th>1</th>\n",
       "      <td>3</td>\n",
       "      <td>2</td>\n",
       "      <td>17</td>\n",
       "      <td>2</td>\n",
       "      <td>None</td>\n",
       "      <td>17.0</td>\n",
       "      <td>2020-10-21 00:00:39</td>\n",
       "      <td>2020-10-21 00:00:39</td>\n",
       "    </tr>\n",
       "    <tr>\n",
       "      <th>2</th>\n",
       "      <td>4</td>\n",
       "      <td>3</td>\n",
       "      <td>246</td>\n",
       "      <td>1</td>\n",
       "      <td>None</td>\n",
       "      <td>276.0</td>\n",
       "      <td>2020-10-21 00:05:40</td>\n",
       "      <td>2020-10-21 00:05:40</td>\n",
       "    </tr>\n",
       "    <tr>\n",
       "      <th>3</th>\n",
       "      <td>6</td>\n",
       "      <td>4</td>\n",
       "      <td>224</td>\n",
       "      <td>1</td>\n",
       "      <td>None</td>\n",
       "      <td>254.0</td>\n",
       "      <td>2020-10-21 00:11:10</td>\n",
       "      <td>2020-10-21 00:11:10</td>\n",
       "    </tr>\n",
       "    <tr>\n",
       "      <th>4</th>\n",
       "      <td>9</td>\n",
       "      <td>5</td>\n",
       "      <td>238</td>\n",
       "      <td>1</td>\n",
       "      <td>None</td>\n",
       "      <td>268.0</td>\n",
       "      <td>2020-10-21 16:54:09</td>\n",
       "      <td>2020-10-21 16:54:09</td>\n",
       "    </tr>\n",
       "    <tr>\n",
       "      <th>...</th>\n",
       "      <td>...</td>\n",
       "      <td>...</td>\n",
       "      <td>...</td>\n",
       "      <td>...</td>\n",
       "      <td>...</td>\n",
       "      <td>...</td>\n",
       "      <td>...</td>\n",
       "      <td>...</td>\n",
       "    </tr>\n",
       "    <tr>\n",
       "      <th>13945</th>\n",
       "      <td>14923</td>\n",
       "      <td>7204</td>\n",
       "      <td>602</td>\n",
       "      <td>1</td>\n",
       "      <td>None</td>\n",
       "      <td>714.0</td>\n",
       "      <td>2023-06-07 19:47:04</td>\n",
       "      <td>2023-06-07 19:47:04</td>\n",
       "    </tr>\n",
       "    <tr>\n",
       "      <th>13946</th>\n",
       "      <td>14924</td>\n",
       "      <td>7204</td>\n",
       "      <td>225</td>\n",
       "      <td>1</td>\n",
       "      <td>None</td>\n",
       "      <td>255.0</td>\n",
       "      <td>2023-06-07 19:47:23</td>\n",
       "      <td>2023-06-07 19:47:23</td>\n",
       "    </tr>\n",
       "    <tr>\n",
       "      <th>13947</th>\n",
       "      <td>14925</td>\n",
       "      <td>7204</td>\n",
       "      <td>583</td>\n",
       "      <td>1</td>\n",
       "      <td>None</td>\n",
       "      <td>687.0</td>\n",
       "      <td>2023-06-07 19:48:48</td>\n",
       "      <td>2023-06-07 19:48:48</td>\n",
       "    </tr>\n",
       "    <tr>\n",
       "      <th>13948</th>\n",
       "      <td>14926</td>\n",
       "      <td>7204</td>\n",
       "      <td>619</td>\n",
       "      <td>1</td>\n",
       "      <td>None</td>\n",
       "      <td>735.0</td>\n",
       "      <td>2023-06-07 19:49:11</td>\n",
       "      <td>2023-06-07 19:49:11</td>\n",
       "    </tr>\n",
       "    <tr>\n",
       "      <th>13949</th>\n",
       "      <td>14927</td>\n",
       "      <td>7204</td>\n",
       "      <td>530</td>\n",
       "      <td>1</td>\n",
       "      <td>None</td>\n",
       "      <td>752.0</td>\n",
       "      <td>2023-06-07 19:51:26</td>\n",
       "      <td>2023-06-07 19:51:26</td>\n",
       "    </tr>\n",
       "  </tbody>\n",
       "</table>\n",
       "<p>13950 rows × 8 columns</p>\n",
       "</div>"
      ],
      "text/plain": [
       "          id  comanda_id  estoque_id  quantidade observacao  produto_preco_id   \n",
       "0          1           1         105           1       None             125.0  \\\n",
       "1          3           2          17           2       None              17.0   \n",
       "2          4           3         246           1       None             276.0   \n",
       "3          6           4         224           1       None             254.0   \n",
       "4          9           5         238           1       None             268.0   \n",
       "...      ...         ...         ...         ...        ...               ...   \n",
       "13945  14923        7204         602           1       None             714.0   \n",
       "13946  14924        7204         225           1       None             255.0   \n",
       "13947  14925        7204         583           1       None             687.0   \n",
       "13948  14926        7204         619           1       None             735.0   \n",
       "13949  14927        7204         530           1       None             752.0   \n",
       "\n",
       "               created_at          updated_at  \n",
       "0     2020-10-20 23:57:27 2020-10-20 23:57:27  \n",
       "1     2020-10-21 00:00:39 2020-10-21 00:00:39  \n",
       "2     2020-10-21 00:05:40 2020-10-21 00:05:40  \n",
       "3     2020-10-21 00:11:10 2020-10-21 00:11:10  \n",
       "4     2020-10-21 16:54:09 2020-10-21 16:54:09  \n",
       "...                   ...                 ...  \n",
       "13945 2023-06-07 19:47:04 2023-06-07 19:47:04  \n",
       "13946 2023-06-07 19:47:23 2023-06-07 19:47:23  \n",
       "13947 2023-06-07 19:48:48 2023-06-07 19:48:48  \n",
       "13948 2023-06-07 19:49:11 2023-06-07 19:49:11  \n",
       "13949 2023-06-07 19:51:26 2023-06-07 19:51:26  \n",
       "\n",
       "[13950 rows x 8 columns]"
      ]
     },
     "execution_count": 9,
     "metadata": {},
     "output_type": "execute_result"
    }
   ],
   "source": [
    "dfItemComandas"
   ]
  },
  {
   "cell_type": "code",
   "execution_count": 12,
   "metadata": {},
   "outputs": [],
   "source": [
    "dfCaixa[\"Month\"] = dfComandas[\"abertura\"].apply(lambda x: x.month)\n",
    "dfCaixa[\"Year\"] = dfComandas[\"abertura\"].apply(lambda x: x.year)"
   ]
  },
  {
   "cell_type": "code",
   "execution_count": 11,
   "metadata": {},
   "outputs": [
    {
     "ename": "UndefinedVariableError",
     "evalue": "name 'Year' is not defined",
     "output_type": "error",
     "traceback": [
      "\u001b[1;31m---------------------------------------------------------------------------\u001b[0m",
      "\u001b[1;31mKeyError\u001b[0m                                  Traceback (most recent call last)",
      "File \u001b[1;32mc:\\Users\\Sávio Cunha\\Documents\\GitHub\\MADAMY\\venv\\Lib\\site-packages\\pandas\\core\\computation\\scope.py:233\u001b[0m, in \u001b[0;36mScope.resolve\u001b[1;34m(self, key, is_local)\u001b[0m\n\u001b[0;32m    232\u001b[0m \u001b[39mif\u001b[39;00m \u001b[39mself\u001b[39m\u001b[39m.\u001b[39mhas_resolvers:\n\u001b[1;32m--> 233\u001b[0m     \u001b[39mreturn\u001b[39;00m \u001b[39mself\u001b[39;49m\u001b[39m.\u001b[39;49mresolvers[key]\n\u001b[0;32m    235\u001b[0m \u001b[39m# if we're here that means that we have no locals and we also have\u001b[39;00m\n\u001b[0;32m    236\u001b[0m \u001b[39m# no resolvers\u001b[39;00m\n",
      "File \u001b[1;32m~\\AppData\\Local\\Programs\\Python\\Python311\\Lib\\collections\\__init__.py:1004\u001b[0m, in \u001b[0;36mChainMap.__getitem__\u001b[1;34m(self, key)\u001b[0m\n\u001b[0;32m   1003\u001b[0m         \u001b[39mpass\u001b[39;00m\n\u001b[1;32m-> 1004\u001b[0m \u001b[39mreturn\u001b[39;00m \u001b[39mself\u001b[39;49m\u001b[39m.\u001b[39;49m\u001b[39m__missing__\u001b[39;49m(key)\n",
      "File \u001b[1;32m~\\AppData\\Local\\Programs\\Python\\Python311\\Lib\\collections\\__init__.py:996\u001b[0m, in \u001b[0;36mChainMap.__missing__\u001b[1;34m(self, key)\u001b[0m\n\u001b[0;32m    995\u001b[0m \u001b[39mdef\u001b[39;00m \u001b[39m__missing__\u001b[39m(\u001b[39mself\u001b[39m, key):\n\u001b[1;32m--> 996\u001b[0m     \u001b[39mraise\u001b[39;00m \u001b[39mKeyError\u001b[39;00m(key)\n",
      "\u001b[1;31mKeyError\u001b[0m: 'Year'",
      "\nDuring handling of the above exception, another exception occurred:\n",
      "\u001b[1;31mKeyError\u001b[0m                                  Traceback (most recent call last)",
      "File \u001b[1;32mc:\\Users\\Sávio Cunha\\Documents\\GitHub\\MADAMY\\venv\\Lib\\site-packages\\pandas\\core\\computation\\scope.py:244\u001b[0m, in \u001b[0;36mScope.resolve\u001b[1;34m(self, key, is_local)\u001b[0m\n\u001b[0;32m    240\u001b[0m \u001b[39mtry\u001b[39;00m:\n\u001b[0;32m    241\u001b[0m     \u001b[39m# last ditch effort we look in temporaries\u001b[39;00m\n\u001b[0;32m    242\u001b[0m     \u001b[39m# these are created when parsing indexing expressions\u001b[39;00m\n\u001b[0;32m    243\u001b[0m     \u001b[39m# e.g., df[df > 0]\u001b[39;00m\n\u001b[1;32m--> 244\u001b[0m     \u001b[39mreturn\u001b[39;00m \u001b[39mself\u001b[39;49m\u001b[39m.\u001b[39;49mtemps[key]\n\u001b[0;32m    245\u001b[0m \u001b[39mexcept\u001b[39;00m \u001b[39mKeyError\u001b[39;00m \u001b[39mas\u001b[39;00m err:\n",
      "\u001b[1;31mKeyError\u001b[0m: 'Year'",
      "\nThe above exception was the direct cause of the following exception:\n",
      "\u001b[1;31mUndefinedVariableError\u001b[0m                    Traceback (most recent call last)",
      "Cell \u001b[1;32mIn[11], line 1\u001b[0m\n\u001b[1;32m----> 1\u001b[0m total \u001b[39m=\u001b[39m dfCaixaItens\u001b[39m.\u001b[39;49mquery(\u001b[39m\"\u001b[39;49m\u001b[39mYear == @year and Month == @month\u001b[39;49m\u001b[39m\"\u001b[39;49m)[\u001b[39m\"\u001b[39m\u001b[39mvalor\u001b[39m\u001b[39m\"\u001b[39m]\u001b[39m.\u001b[39msum()\n\u001b[0;32m      2\u001b[0m \u001b[39m# total_formatado = \"R$ {:,}\".format(total).replace(\",\", \".\")\u001b[39;00m\n\u001b[0;32m      3\u001b[0m total_formatado \u001b[39m=\u001b[39m \u001b[39mf\u001b[39m\u001b[39m\"\u001b[39m\u001b[39mR$ \u001b[39m\u001b[39m{\u001b[39;00mtotal\u001b[39m:\u001b[39;00m\u001b[39m,.2f\u001b[39m\u001b[39m}\u001b[39;00m\u001b[39m\"\u001b[39m\u001b[39m.\u001b[39mreplace(\u001b[39m\"\u001b[39m\u001b[39m,\u001b[39m\u001b[39m\"\u001b[39m, \u001b[39m\"\u001b[39m\u001b[39m.\u001b[39m\u001b[39m\"\u001b[39m)\n",
      "File \u001b[1;32mc:\\Users\\Sávio Cunha\\Documents\\GitHub\\MADAMY\\venv\\Lib\\site-packages\\pandas\\core\\frame.py:4450\u001b[0m, in \u001b[0;36mDataFrame.query\u001b[1;34m(self, expr, inplace, **kwargs)\u001b[0m\n\u001b[0;32m   4448\u001b[0m kwargs[\u001b[39m\"\u001b[39m\u001b[39mlevel\u001b[39m\u001b[39m\"\u001b[39m] \u001b[39m=\u001b[39m kwargs\u001b[39m.\u001b[39mpop(\u001b[39m\"\u001b[39m\u001b[39mlevel\u001b[39m\u001b[39m\"\u001b[39m, \u001b[39m0\u001b[39m) \u001b[39m+\u001b[39m \u001b[39m1\u001b[39m\n\u001b[0;32m   4449\u001b[0m kwargs[\u001b[39m\"\u001b[39m\u001b[39mtarget\u001b[39m\u001b[39m\"\u001b[39m] \u001b[39m=\u001b[39m \u001b[39mNone\u001b[39;00m\n\u001b[1;32m-> 4450\u001b[0m res \u001b[39m=\u001b[39m \u001b[39mself\u001b[39;49m\u001b[39m.\u001b[39;49meval(expr, \u001b[39m*\u001b[39;49m\u001b[39m*\u001b[39;49mkwargs)\n\u001b[0;32m   4452\u001b[0m \u001b[39mtry\u001b[39;00m:\n\u001b[0;32m   4453\u001b[0m     result \u001b[39m=\u001b[39m \u001b[39mself\u001b[39m\u001b[39m.\u001b[39mloc[res]\n",
      "File \u001b[1;32mc:\\Users\\Sávio Cunha\\Documents\\GitHub\\MADAMY\\venv\\Lib\\site-packages\\pandas\\core\\frame.py:4576\u001b[0m, in \u001b[0;36mDataFrame.eval\u001b[1;34m(self, expr, inplace, **kwargs)\u001b[0m\n\u001b[0;32m   4573\u001b[0m     kwargs[\u001b[39m\"\u001b[39m\u001b[39mtarget\u001b[39m\u001b[39m\"\u001b[39m] \u001b[39m=\u001b[39m \u001b[39mself\u001b[39m\n\u001b[0;32m   4574\u001b[0m kwargs[\u001b[39m\"\u001b[39m\u001b[39mresolvers\u001b[39m\u001b[39m\"\u001b[39m] \u001b[39m=\u001b[39m \u001b[39mtuple\u001b[39m(kwargs\u001b[39m.\u001b[39mget(\u001b[39m\"\u001b[39m\u001b[39mresolvers\u001b[39m\u001b[39m\"\u001b[39m, ())) \u001b[39m+\u001b[39m resolvers\n\u001b[1;32m-> 4576\u001b[0m \u001b[39mreturn\u001b[39;00m _eval(expr, inplace\u001b[39m=\u001b[39;49minplace, \u001b[39m*\u001b[39;49m\u001b[39m*\u001b[39;49mkwargs)\n",
      "File \u001b[1;32mc:\\Users\\Sávio Cunha\\Documents\\GitHub\\MADAMY\\venv\\Lib\\site-packages\\pandas\\core\\computation\\eval.py:336\u001b[0m, in \u001b[0;36meval\u001b[1;34m(expr, parser, engine, local_dict, global_dict, resolvers, level, target, inplace)\u001b[0m\n\u001b[0;32m    327\u001b[0m \u001b[39m# get our (possibly passed-in) scope\u001b[39;00m\n\u001b[0;32m    328\u001b[0m env \u001b[39m=\u001b[39m ensure_scope(\n\u001b[0;32m    329\u001b[0m     level \u001b[39m+\u001b[39m \u001b[39m1\u001b[39m,\n\u001b[0;32m    330\u001b[0m     global_dict\u001b[39m=\u001b[39mglobal_dict,\n\u001b[1;32m   (...)\u001b[0m\n\u001b[0;32m    333\u001b[0m     target\u001b[39m=\u001b[39mtarget,\n\u001b[0;32m    334\u001b[0m )\n\u001b[1;32m--> 336\u001b[0m parsed_expr \u001b[39m=\u001b[39m Expr(expr, engine\u001b[39m=\u001b[39;49mengine, parser\u001b[39m=\u001b[39;49mparser, env\u001b[39m=\u001b[39;49menv)\n\u001b[0;32m    338\u001b[0m \u001b[39mif\u001b[39;00m engine \u001b[39m==\u001b[39m \u001b[39m\"\u001b[39m\u001b[39mnumexpr\u001b[39m\u001b[39m\"\u001b[39m \u001b[39mand\u001b[39;00m (\n\u001b[0;32m    339\u001b[0m     is_extension_array_dtype(parsed_expr\u001b[39m.\u001b[39mterms\u001b[39m.\u001b[39mreturn_type)\n\u001b[0;32m    340\u001b[0m     \u001b[39mor\u001b[39;00m \u001b[39mgetattr\u001b[39m(parsed_expr\u001b[39m.\u001b[39mterms, \u001b[39m\"\u001b[39m\u001b[39moperand_types\u001b[39m\u001b[39m\"\u001b[39m, \u001b[39mNone\u001b[39;00m) \u001b[39mis\u001b[39;00m \u001b[39mnot\u001b[39;00m \u001b[39mNone\u001b[39;00m\n\u001b[1;32m   (...)\u001b[0m\n\u001b[0;32m    344\u001b[0m     )\n\u001b[0;32m    345\u001b[0m ):\n\u001b[0;32m    346\u001b[0m     warnings\u001b[39m.\u001b[39mwarn(\n\u001b[0;32m    347\u001b[0m         \u001b[39m\"\u001b[39m\u001b[39mEngine has switched to \u001b[39m\u001b[39m'\u001b[39m\u001b[39mpython\u001b[39m\u001b[39m'\u001b[39m\u001b[39m because numexpr does not support \u001b[39m\u001b[39m\"\u001b[39m\n\u001b[0;32m    348\u001b[0m         \u001b[39m\"\u001b[39m\u001b[39mextension array dtypes. Please set your engine to python manually.\u001b[39m\u001b[39m\"\u001b[39m,\n\u001b[0;32m    349\u001b[0m         \u001b[39mRuntimeWarning\u001b[39;00m,\n\u001b[0;32m    350\u001b[0m         stacklevel\u001b[39m=\u001b[39mfind_stack_level(),\n\u001b[0;32m    351\u001b[0m     )\n",
      "File \u001b[1;32mc:\\Users\\Sávio Cunha\\Documents\\GitHub\\MADAMY\\venv\\Lib\\site-packages\\pandas\\core\\computation\\expr.py:809\u001b[0m, in \u001b[0;36mExpr.__init__\u001b[1;34m(self, expr, engine, parser, env, level)\u001b[0m\n\u001b[0;32m    807\u001b[0m \u001b[39mself\u001b[39m\u001b[39m.\u001b[39mparser \u001b[39m=\u001b[39m parser\n\u001b[0;32m    808\u001b[0m \u001b[39mself\u001b[39m\u001b[39m.\u001b[39m_visitor \u001b[39m=\u001b[39m PARSERS[parser](\u001b[39mself\u001b[39m\u001b[39m.\u001b[39menv, \u001b[39mself\u001b[39m\u001b[39m.\u001b[39mengine, \u001b[39mself\u001b[39m\u001b[39m.\u001b[39mparser)\n\u001b[1;32m--> 809\u001b[0m \u001b[39mself\u001b[39m\u001b[39m.\u001b[39mterms \u001b[39m=\u001b[39m \u001b[39mself\u001b[39;49m\u001b[39m.\u001b[39;49mparse()\n",
      "File \u001b[1;32mc:\\Users\\Sávio Cunha\\Documents\\GitHub\\MADAMY\\venv\\Lib\\site-packages\\pandas\\core\\computation\\expr.py:828\u001b[0m, in \u001b[0;36mExpr.parse\u001b[1;34m(self)\u001b[0m\n\u001b[0;32m    824\u001b[0m \u001b[39mdef\u001b[39;00m \u001b[39mparse\u001b[39m(\u001b[39mself\u001b[39m):\n\u001b[0;32m    825\u001b[0m \u001b[39m    \u001b[39m\u001b[39m\"\"\"\u001b[39;00m\n\u001b[0;32m    826\u001b[0m \u001b[39m    Parse an expression.\u001b[39;00m\n\u001b[0;32m    827\u001b[0m \u001b[39m    \"\"\"\u001b[39;00m\n\u001b[1;32m--> 828\u001b[0m     \u001b[39mreturn\u001b[39;00m \u001b[39mself\u001b[39;49m\u001b[39m.\u001b[39;49m_visitor\u001b[39m.\u001b[39;49mvisit(\u001b[39mself\u001b[39;49m\u001b[39m.\u001b[39;49mexpr)\n",
      "File \u001b[1;32mc:\\Users\\Sávio Cunha\\Documents\\GitHub\\MADAMY\\venv\\Lib\\site-packages\\pandas\\core\\computation\\expr.py:415\u001b[0m, in \u001b[0;36mBaseExprVisitor.visit\u001b[1;34m(self, node, **kwargs)\u001b[0m\n\u001b[0;32m    413\u001b[0m method \u001b[39m=\u001b[39m \u001b[39mf\u001b[39m\u001b[39m\"\u001b[39m\u001b[39mvisit_\u001b[39m\u001b[39m{\u001b[39;00m\u001b[39mtype\u001b[39m(node)\u001b[39m.\u001b[39m\u001b[39m__name__\u001b[39m\u001b[39m}\u001b[39;00m\u001b[39m\"\u001b[39m\n\u001b[0;32m    414\u001b[0m visitor \u001b[39m=\u001b[39m \u001b[39mgetattr\u001b[39m(\u001b[39mself\u001b[39m, method)\n\u001b[1;32m--> 415\u001b[0m \u001b[39mreturn\u001b[39;00m visitor(node, \u001b[39m*\u001b[39;49m\u001b[39m*\u001b[39;49mkwargs)\n",
      "File \u001b[1;32mc:\\Users\\Sávio Cunha\\Documents\\GitHub\\MADAMY\\venv\\Lib\\site-packages\\pandas\\core\\computation\\expr.py:421\u001b[0m, in \u001b[0;36mBaseExprVisitor.visit_Module\u001b[1;34m(self, node, **kwargs)\u001b[0m\n\u001b[0;32m    419\u001b[0m     \u001b[39mraise\u001b[39;00m \u001b[39mSyntaxError\u001b[39;00m(\u001b[39m\"\u001b[39m\u001b[39monly a single expression is allowed\u001b[39m\u001b[39m\"\u001b[39m)\n\u001b[0;32m    420\u001b[0m expr \u001b[39m=\u001b[39m node\u001b[39m.\u001b[39mbody[\u001b[39m0\u001b[39m]\n\u001b[1;32m--> 421\u001b[0m \u001b[39mreturn\u001b[39;00m \u001b[39mself\u001b[39;49m\u001b[39m.\u001b[39;49mvisit(expr, \u001b[39m*\u001b[39;49m\u001b[39m*\u001b[39;49mkwargs)\n",
      "File \u001b[1;32mc:\\Users\\Sávio Cunha\\Documents\\GitHub\\MADAMY\\venv\\Lib\\site-packages\\pandas\\core\\computation\\expr.py:415\u001b[0m, in \u001b[0;36mBaseExprVisitor.visit\u001b[1;34m(self, node, **kwargs)\u001b[0m\n\u001b[0;32m    413\u001b[0m method \u001b[39m=\u001b[39m \u001b[39mf\u001b[39m\u001b[39m\"\u001b[39m\u001b[39mvisit_\u001b[39m\u001b[39m{\u001b[39;00m\u001b[39mtype\u001b[39m(node)\u001b[39m.\u001b[39m\u001b[39m__name__\u001b[39m\u001b[39m}\u001b[39;00m\u001b[39m\"\u001b[39m\n\u001b[0;32m    414\u001b[0m visitor \u001b[39m=\u001b[39m \u001b[39mgetattr\u001b[39m(\u001b[39mself\u001b[39m, method)\n\u001b[1;32m--> 415\u001b[0m \u001b[39mreturn\u001b[39;00m visitor(node, \u001b[39m*\u001b[39;49m\u001b[39m*\u001b[39;49mkwargs)\n",
      "File \u001b[1;32mc:\\Users\\Sávio Cunha\\Documents\\GitHub\\MADAMY\\venv\\Lib\\site-packages\\pandas\\core\\computation\\expr.py:424\u001b[0m, in \u001b[0;36mBaseExprVisitor.visit_Expr\u001b[1;34m(self, node, **kwargs)\u001b[0m\n\u001b[0;32m    423\u001b[0m \u001b[39mdef\u001b[39;00m \u001b[39mvisit_Expr\u001b[39m(\u001b[39mself\u001b[39m, node, \u001b[39m*\u001b[39m\u001b[39m*\u001b[39mkwargs):\n\u001b[1;32m--> 424\u001b[0m     \u001b[39mreturn\u001b[39;00m \u001b[39mself\u001b[39;49m\u001b[39m.\u001b[39;49mvisit(node\u001b[39m.\u001b[39;49mvalue, \u001b[39m*\u001b[39;49m\u001b[39m*\u001b[39;49mkwargs)\n",
      "File \u001b[1;32mc:\\Users\\Sávio Cunha\\Documents\\GitHub\\MADAMY\\venv\\Lib\\site-packages\\pandas\\core\\computation\\expr.py:415\u001b[0m, in \u001b[0;36mBaseExprVisitor.visit\u001b[1;34m(self, node, **kwargs)\u001b[0m\n\u001b[0;32m    413\u001b[0m method \u001b[39m=\u001b[39m \u001b[39mf\u001b[39m\u001b[39m\"\u001b[39m\u001b[39mvisit_\u001b[39m\u001b[39m{\u001b[39;00m\u001b[39mtype\u001b[39m(node)\u001b[39m.\u001b[39m\u001b[39m__name__\u001b[39m\u001b[39m}\u001b[39;00m\u001b[39m\"\u001b[39m\n\u001b[0;32m    414\u001b[0m visitor \u001b[39m=\u001b[39m \u001b[39mgetattr\u001b[39m(\u001b[39mself\u001b[39m, method)\n\u001b[1;32m--> 415\u001b[0m \u001b[39mreturn\u001b[39;00m visitor(node, \u001b[39m*\u001b[39;49m\u001b[39m*\u001b[39;49mkwargs)\n",
      "File \u001b[1;32mc:\\Users\\Sávio Cunha\\Documents\\GitHub\\MADAMY\\venv\\Lib\\site-packages\\pandas\\core\\computation\\expr.py:746\u001b[0m, in \u001b[0;36mBaseExprVisitor.visit_BoolOp\u001b[1;34m(self, node, **kwargs)\u001b[0m\n\u001b[0;32m    743\u001b[0m     \u001b[39mreturn\u001b[39;00m \u001b[39mself\u001b[39m\u001b[39m.\u001b[39m_maybe_evaluate_binop(op, node\u001b[39m.\u001b[39mop, lhs, rhs)\n\u001b[0;32m    745\u001b[0m operands \u001b[39m=\u001b[39m node\u001b[39m.\u001b[39mvalues\n\u001b[1;32m--> 746\u001b[0m \u001b[39mreturn\u001b[39;00m reduce(visitor, operands)\n",
      "File \u001b[1;32mc:\\Users\\Sávio Cunha\\Documents\\GitHub\\MADAMY\\venv\\Lib\\site-packages\\pandas\\core\\computation\\expr.py:739\u001b[0m, in \u001b[0;36mBaseExprVisitor.visit_BoolOp.<locals>.visitor\u001b[1;34m(x, y)\u001b[0m\n\u001b[0;32m    738\u001b[0m \u001b[39mdef\u001b[39;00m \u001b[39mvisitor\u001b[39m(x, y):\n\u001b[1;32m--> 739\u001b[0m     lhs \u001b[39m=\u001b[39m \u001b[39mself\u001b[39;49m\u001b[39m.\u001b[39;49m_try_visit_binop(x)\n\u001b[0;32m    740\u001b[0m     rhs \u001b[39m=\u001b[39m \u001b[39mself\u001b[39m\u001b[39m.\u001b[39m_try_visit_binop(y)\n\u001b[0;32m    742\u001b[0m     op, op_class, lhs, rhs \u001b[39m=\u001b[39m \u001b[39mself\u001b[39m\u001b[39m.\u001b[39m_maybe_transform_eq_ne(node, lhs, rhs)\n",
      "File \u001b[1;32mc:\\Users\\Sávio Cunha\\Documents\\GitHub\\MADAMY\\venv\\Lib\\site-packages\\pandas\\core\\computation\\expr.py:735\u001b[0m, in \u001b[0;36mBaseExprVisitor._try_visit_binop\u001b[1;34m(self, bop)\u001b[0m\n\u001b[0;32m    733\u001b[0m \u001b[39mif\u001b[39;00m \u001b[39misinstance\u001b[39m(bop, (Op, Term)):\n\u001b[0;32m    734\u001b[0m     \u001b[39mreturn\u001b[39;00m bop\n\u001b[1;32m--> 735\u001b[0m \u001b[39mreturn\u001b[39;00m \u001b[39mself\u001b[39;49m\u001b[39m.\u001b[39;49mvisit(bop)\n",
      "File \u001b[1;32mc:\\Users\\Sávio Cunha\\Documents\\GitHub\\MADAMY\\venv\\Lib\\site-packages\\pandas\\core\\computation\\expr.py:415\u001b[0m, in \u001b[0;36mBaseExprVisitor.visit\u001b[1;34m(self, node, **kwargs)\u001b[0m\n\u001b[0;32m    413\u001b[0m method \u001b[39m=\u001b[39m \u001b[39mf\u001b[39m\u001b[39m\"\u001b[39m\u001b[39mvisit_\u001b[39m\u001b[39m{\u001b[39;00m\u001b[39mtype\u001b[39m(node)\u001b[39m.\u001b[39m\u001b[39m__name__\u001b[39m\u001b[39m}\u001b[39;00m\u001b[39m\"\u001b[39m\n\u001b[0;32m    414\u001b[0m visitor \u001b[39m=\u001b[39m \u001b[39mgetattr\u001b[39m(\u001b[39mself\u001b[39m, method)\n\u001b[1;32m--> 415\u001b[0m \u001b[39mreturn\u001b[39;00m visitor(node, \u001b[39m*\u001b[39;49m\u001b[39m*\u001b[39;49mkwargs)\n",
      "File \u001b[1;32mc:\\Users\\Sávio Cunha\\Documents\\GitHub\\MADAMY\\venv\\Lib\\site-packages\\pandas\\core\\computation\\expr.py:719\u001b[0m, in \u001b[0;36mBaseExprVisitor.visit_Compare\u001b[1;34m(self, node, **kwargs)\u001b[0m\n\u001b[0;32m    717\u001b[0m     op \u001b[39m=\u001b[39m \u001b[39mself\u001b[39m\u001b[39m.\u001b[39mtranslate_In(ops[\u001b[39m0\u001b[39m])\n\u001b[0;32m    718\u001b[0m     binop \u001b[39m=\u001b[39m ast\u001b[39m.\u001b[39mBinOp(op\u001b[39m=\u001b[39mop, left\u001b[39m=\u001b[39mnode\u001b[39m.\u001b[39mleft, right\u001b[39m=\u001b[39mcomps[\u001b[39m0\u001b[39m])\n\u001b[1;32m--> 719\u001b[0m     \u001b[39mreturn\u001b[39;00m \u001b[39mself\u001b[39;49m\u001b[39m.\u001b[39;49mvisit(binop)\n\u001b[0;32m    721\u001b[0m \u001b[39m# recursive case: we have a chained comparison, a CMP b CMP c, etc.\u001b[39;00m\n\u001b[0;32m    722\u001b[0m left \u001b[39m=\u001b[39m node\u001b[39m.\u001b[39mleft\n",
      "File \u001b[1;32mc:\\Users\\Sávio Cunha\\Documents\\GitHub\\MADAMY\\venv\\Lib\\site-packages\\pandas\\core\\computation\\expr.py:415\u001b[0m, in \u001b[0;36mBaseExprVisitor.visit\u001b[1;34m(self, node, **kwargs)\u001b[0m\n\u001b[0;32m    413\u001b[0m method \u001b[39m=\u001b[39m \u001b[39mf\u001b[39m\u001b[39m\"\u001b[39m\u001b[39mvisit_\u001b[39m\u001b[39m{\u001b[39;00m\u001b[39mtype\u001b[39m(node)\u001b[39m.\u001b[39m\u001b[39m__name__\u001b[39m\u001b[39m}\u001b[39;00m\u001b[39m\"\u001b[39m\n\u001b[0;32m    414\u001b[0m visitor \u001b[39m=\u001b[39m \u001b[39mgetattr\u001b[39m(\u001b[39mself\u001b[39m, method)\n\u001b[1;32m--> 415\u001b[0m \u001b[39mreturn\u001b[39;00m visitor(node, \u001b[39m*\u001b[39;49m\u001b[39m*\u001b[39;49mkwargs)\n",
      "File \u001b[1;32mc:\\Users\\Sávio Cunha\\Documents\\GitHub\\MADAMY\\venv\\Lib\\site-packages\\pandas\\core\\computation\\expr.py:535\u001b[0m, in \u001b[0;36mBaseExprVisitor.visit_BinOp\u001b[1;34m(self, node, **kwargs)\u001b[0m\n\u001b[0;32m    534\u001b[0m \u001b[39mdef\u001b[39;00m \u001b[39mvisit_BinOp\u001b[39m(\u001b[39mself\u001b[39m, node, \u001b[39m*\u001b[39m\u001b[39m*\u001b[39mkwargs):\n\u001b[1;32m--> 535\u001b[0m     op, op_class, left, right \u001b[39m=\u001b[39m \u001b[39mself\u001b[39;49m\u001b[39m.\u001b[39;49m_maybe_transform_eq_ne(node)\n\u001b[0;32m    536\u001b[0m     left, right \u001b[39m=\u001b[39m \u001b[39mself\u001b[39m\u001b[39m.\u001b[39m_maybe_downcast_constants(left, right)\n\u001b[0;32m    537\u001b[0m     \u001b[39mreturn\u001b[39;00m \u001b[39mself\u001b[39m\u001b[39m.\u001b[39m_maybe_evaluate_binop(op, op_class, left, right)\n",
      "File \u001b[1;32mc:\\Users\\Sávio Cunha\\Documents\\GitHub\\MADAMY\\venv\\Lib\\site-packages\\pandas\\core\\computation\\expr.py:455\u001b[0m, in \u001b[0;36mBaseExprVisitor._maybe_transform_eq_ne\u001b[1;34m(self, node, left, right)\u001b[0m\n\u001b[0;32m    453\u001b[0m \u001b[39mdef\u001b[39;00m \u001b[39m_maybe_transform_eq_ne\u001b[39m(\u001b[39mself\u001b[39m, node, left\u001b[39m=\u001b[39m\u001b[39mNone\u001b[39;00m, right\u001b[39m=\u001b[39m\u001b[39mNone\u001b[39;00m):\n\u001b[0;32m    454\u001b[0m     \u001b[39mif\u001b[39;00m left \u001b[39mis\u001b[39;00m \u001b[39mNone\u001b[39;00m:\n\u001b[1;32m--> 455\u001b[0m         left \u001b[39m=\u001b[39m \u001b[39mself\u001b[39;49m\u001b[39m.\u001b[39;49mvisit(node\u001b[39m.\u001b[39;49mleft, side\u001b[39m=\u001b[39;49m\u001b[39m\"\u001b[39;49m\u001b[39mleft\u001b[39;49m\u001b[39m\"\u001b[39;49m)\n\u001b[0;32m    456\u001b[0m     \u001b[39mif\u001b[39;00m right \u001b[39mis\u001b[39;00m \u001b[39mNone\u001b[39;00m:\n\u001b[0;32m    457\u001b[0m         right \u001b[39m=\u001b[39m \u001b[39mself\u001b[39m\u001b[39m.\u001b[39mvisit(node\u001b[39m.\u001b[39mright, side\u001b[39m=\u001b[39m\u001b[39m\"\u001b[39m\u001b[39mright\u001b[39m\u001b[39m\"\u001b[39m)\n",
      "File \u001b[1;32mc:\\Users\\Sávio Cunha\\Documents\\GitHub\\MADAMY\\venv\\Lib\\site-packages\\pandas\\core\\computation\\expr.py:415\u001b[0m, in \u001b[0;36mBaseExprVisitor.visit\u001b[1;34m(self, node, **kwargs)\u001b[0m\n\u001b[0;32m    413\u001b[0m method \u001b[39m=\u001b[39m \u001b[39mf\u001b[39m\u001b[39m\"\u001b[39m\u001b[39mvisit_\u001b[39m\u001b[39m{\u001b[39;00m\u001b[39mtype\u001b[39m(node)\u001b[39m.\u001b[39m\u001b[39m__name__\u001b[39m\u001b[39m}\u001b[39;00m\u001b[39m\"\u001b[39m\n\u001b[0;32m    414\u001b[0m visitor \u001b[39m=\u001b[39m \u001b[39mgetattr\u001b[39m(\u001b[39mself\u001b[39m, method)\n\u001b[1;32m--> 415\u001b[0m \u001b[39mreturn\u001b[39;00m visitor(node, \u001b[39m*\u001b[39;49m\u001b[39m*\u001b[39;49mkwargs)\n",
      "File \u001b[1;32mc:\\Users\\Sávio Cunha\\Documents\\GitHub\\MADAMY\\venv\\Lib\\site-packages\\pandas\\core\\computation\\expr.py:548\u001b[0m, in \u001b[0;36mBaseExprVisitor.visit_Name\u001b[1;34m(self, node, **kwargs)\u001b[0m\n\u001b[0;32m    547\u001b[0m \u001b[39mdef\u001b[39;00m \u001b[39mvisit_Name\u001b[39m(\u001b[39mself\u001b[39m, node, \u001b[39m*\u001b[39m\u001b[39m*\u001b[39mkwargs):\n\u001b[1;32m--> 548\u001b[0m     \u001b[39mreturn\u001b[39;00m \u001b[39mself\u001b[39;49m\u001b[39m.\u001b[39;49mterm_type(node\u001b[39m.\u001b[39;49mid, \u001b[39mself\u001b[39;49m\u001b[39m.\u001b[39;49menv, \u001b[39m*\u001b[39;49m\u001b[39m*\u001b[39;49mkwargs)\n",
      "File \u001b[1;32mc:\\Users\\Sávio Cunha\\Documents\\GitHub\\MADAMY\\venv\\Lib\\site-packages\\pandas\\core\\computation\\ops.py:86\u001b[0m, in \u001b[0;36mTerm.__init__\u001b[1;34m(self, name, env, side, encoding)\u001b[0m\n\u001b[0;32m     84\u001b[0m tname \u001b[39m=\u001b[39m \u001b[39mstr\u001b[39m(name)\n\u001b[0;32m     85\u001b[0m \u001b[39mself\u001b[39m\u001b[39m.\u001b[39mis_local \u001b[39m=\u001b[39m tname\u001b[39m.\u001b[39mstartswith(LOCAL_TAG) \u001b[39mor\u001b[39;00m tname \u001b[39min\u001b[39;00m DEFAULT_GLOBALS\n\u001b[1;32m---> 86\u001b[0m \u001b[39mself\u001b[39m\u001b[39m.\u001b[39m_value \u001b[39m=\u001b[39m \u001b[39mself\u001b[39;49m\u001b[39m.\u001b[39;49m_resolve_name()\n\u001b[0;32m     87\u001b[0m \u001b[39mself\u001b[39m\u001b[39m.\u001b[39mencoding \u001b[39m=\u001b[39m encoding\n",
      "File \u001b[1;32mc:\\Users\\Sávio Cunha\\Documents\\GitHub\\MADAMY\\venv\\Lib\\site-packages\\pandas\\core\\computation\\ops.py:110\u001b[0m, in \u001b[0;36mTerm._resolve_name\u001b[1;34m(self)\u001b[0m\n\u001b[0;32m    105\u001b[0m \u001b[39mif\u001b[39;00m local_name \u001b[39min\u001b[39;00m \u001b[39mself\u001b[39m\u001b[39m.\u001b[39menv\u001b[39m.\u001b[39mscope \u001b[39mand\u001b[39;00m \u001b[39misinstance\u001b[39m(\n\u001b[0;32m    106\u001b[0m     \u001b[39mself\u001b[39m\u001b[39m.\u001b[39menv\u001b[39m.\u001b[39mscope[local_name], \u001b[39mtype\u001b[39m\n\u001b[0;32m    107\u001b[0m ):\n\u001b[0;32m    108\u001b[0m     is_local \u001b[39m=\u001b[39m \u001b[39mFalse\u001b[39;00m\n\u001b[1;32m--> 110\u001b[0m res \u001b[39m=\u001b[39m \u001b[39mself\u001b[39;49m\u001b[39m.\u001b[39;49menv\u001b[39m.\u001b[39;49mresolve(local_name, is_local\u001b[39m=\u001b[39;49mis_local)\n\u001b[0;32m    111\u001b[0m \u001b[39mself\u001b[39m\u001b[39m.\u001b[39mupdate(res)\n\u001b[0;32m    113\u001b[0m \u001b[39mif\u001b[39;00m \u001b[39mhasattr\u001b[39m(res, \u001b[39m\"\u001b[39m\u001b[39mndim\u001b[39m\u001b[39m\"\u001b[39m) \u001b[39mand\u001b[39;00m res\u001b[39m.\u001b[39mndim \u001b[39m>\u001b[39m \u001b[39m2\u001b[39m:\n",
      "File \u001b[1;32mc:\\Users\\Sávio Cunha\\Documents\\GitHub\\MADAMY\\venv\\Lib\\site-packages\\pandas\\core\\computation\\scope.py:246\u001b[0m, in \u001b[0;36mScope.resolve\u001b[1;34m(self, key, is_local)\u001b[0m\n\u001b[0;32m    244\u001b[0m     \u001b[39mreturn\u001b[39;00m \u001b[39mself\u001b[39m\u001b[39m.\u001b[39mtemps[key]\n\u001b[0;32m    245\u001b[0m \u001b[39mexcept\u001b[39;00m \u001b[39mKeyError\u001b[39;00m \u001b[39mas\u001b[39;00m err:\n\u001b[1;32m--> 246\u001b[0m     \u001b[39mraise\u001b[39;00m UndefinedVariableError(key, is_local) \u001b[39mfrom\u001b[39;00m \u001b[39merr\u001b[39;00m\n",
      "\u001b[1;31mUndefinedVariableError\u001b[0m: name 'Year' is not defined"
     ]
    }
   ],
   "source": [
    "total = dfCaixaItens.query(\"Year == @year and Month == @month\")[\"valor\"].sum()\n",
    "# total_formatado = \"R$ {:,}\".format(total).replace(\",\", \".\")\n",
    "total_formatado = f\"R$ {total:,.2f}\".replace(\",\", \".\")"
   ]
  },
  {
   "cell_type": "code",
   "execution_count": null,
   "metadata": {},
   "outputs": [],
   "source": [
    "##"
   ]
  },
  {
   "attachments": {},
   "cell_type": "markdown",
   "metadata": {},
   "source": [
    "## Qual Valor de Vendas ate hoje?"
   ]
  },
  {
   "cell_type": "code",
   "execution_count": 50,
   "metadata": {},
   "outputs": [
    {
     "data": {
      "text/plain": [
       "431849.09"
      ]
     },
     "execution_count": 50,
     "metadata": {},
     "output_type": "execute_result"
    }
   ],
   "source": [
    "dfCaixaItens[\"valor\"].sum()\n"
   ]
  },
  {
   "attachments": {},
   "cell_type": "markdown",
   "metadata": {},
   "source": [
    "## Quantas pedidos foram feitos?"
   ]
  },
  {
   "cell_type": "code",
   "execution_count": 52,
   "metadata": {},
   "outputs": [
    {
     "data": {
      "text/plain": [
       "7107"
      ]
     },
     "execution_count": 52,
     "metadata": {},
     "output_type": "execute_result"
    }
   ],
   "source": [
    "dfComandas['id'].count()"
   ]
  },
  {
   "attachments": {},
   "cell_type": "markdown",
   "metadata": {},
   "source": [
    "##  Quantidade de itens vendidos ate hoje"
   ]
  },
  {
   "cell_type": "code",
   "execution_count": 54,
   "metadata": {},
   "outputs": [
    {
     "data": {
      "text/plain": [
       "14363"
      ]
     },
     "execution_count": 54,
     "metadata": {},
     "output_type": "execute_result"
    }
   ],
   "source": [
    "dfItemComandas['quantidade'].sum()"
   ]
  }
 ],
 "metadata": {
  "kernelspec": {
   "display_name": "venv",
   "language": "python",
   "name": "python3"
  },
  "language_info": {
   "codemirror_mode": {
    "name": "ipython",
    "version": 3
   },
   "file_extension": ".py",
   "mimetype": "text/x-python",
   "name": "python",
   "nbconvert_exporter": "python",
   "pygments_lexer": "ipython3",
   "version": "3.11.1"
  },
  "orig_nbformat": 4
 },
 "nbformat": 4,
 "nbformat_minor": 2
}
